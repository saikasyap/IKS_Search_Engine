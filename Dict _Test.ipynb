{
 "cells": [
  {
   "cell_type": "code",
   "execution_count": 1,
   "id": "5bb76555",
   "metadata": {},
   "outputs": [
    {
     "name": "stdout",
     "output_type": "stream",
     "text": [
      "{\r\n",
      "  \"name\" : \"master\",\r\n",
      "  \"cluster_name\" : \"elasticsearch\",\r\n",
      "  \"cluster_uuid\" : \"w1RU10VySN26dwWZI6pv2g\",\r\n",
      "  \"version\" : {\r\n",
      "    \"number\" : \"7.10.2\",\r\n",
      "    \"build_flavor\" : \"oss\",\r\n",
      "    \"build_type\" : \"rpm\",\r\n",
      "    \"build_hash\" : \"747e1cc71def077253878a59143c1f785afa92b9\",\r\n",
      "    \"build_date\" : \"2021-01-13T00:42:12.435326Z\",\r\n",
      "    \"build_snapshot\" : false,\r\n",
      "    \"lucene_version\" : \"8.7.0\",\r\n",
      "    \"minimum_wire_compatibility_version\" : \"6.8.0\",\r\n",
      "    \"minimum_index_compatibility_version\" : \"6.0.0-beta1\"\r\n",
      "  },\r\n",
      "  \"tagline\" : \"You Know, for Search\"\r\n",
      "}\r\n"
     ]
    }
   ],
   "source": [
    "!curl http://localhost:9200/"
   ]
  },
  {
   "cell_type": "code",
   "execution_count": 1,
   "id": "3a4a6539",
   "metadata": {},
   "outputs": [],
   "source": [
    "import pycdsl\n"
   ]
  },
  {
   "cell_type": "code",
   "execution_count": 2,
   "id": "e4cf18da",
   "metadata": {},
   "outputs": [],
   "source": [
    "CDSL = pycdsl.CDSLCorpus()\n"
   ]
  },
  {
   "cell_type": "code",
   "execution_count": 4,
   "id": "9a399a65",
   "metadata": {},
   "outputs": [
    {
     "name": "stderr",
     "output_type": "stream",
     "text": [
      "Downloading 'AP90.web.zip' ... (10134380 bytes)\n",
      "AP90.web.zip: 100%|████████████████████████████████████████████████████████████████| 10.1M/10.1M [00:01<00:00, 5.92MB/s]\n",
      "Successfully downloaded 'AP90.web.zip' from 'https://www.sanskrit-lexicon.uni-koeln.de/scans/AP90Scan/2020/downloads/ap90web1.zip'.\n",
      "Downloading 'MW.web.zip' ... (36721423 bytes)\n",
      "MW.web.zip: 100%|██████████████████████████████████████████████████████████████████| 36.7M/36.7M [00:04<00:00, 8.11MB/s]\n",
      "Successfully downloaded 'MW.web.zip' from 'https://www.sanskrit-lexicon.uni-koeln.de/scans/MWScan/2020/downloads/mwweb1.zip'.\n",
      "Downloading 'MWE.web.zip' ... (7899617 bytes)\n",
      "MWE.web.zip: 100%|█████████████████████████████████████████████████████████████████| 7.90M/7.90M [00:01<00:00, 4.85MB/s]\n",
      "Successfully downloaded 'MWE.web.zip' from 'https://www.sanskrit-lexicon.uni-koeln.de/scans/MWEScan/2020/downloads/mweweb1.zip'.\n",
      "Downloading 'AE.web.zip' ... (4493631 bytes)\n",
      "AE.web.zip: 100%|██████████████████████████████████████████████████████████████████| 4.49M/4.49M [00:01<00:00, 2.89MB/s]\n",
      "Successfully downloaded 'AE.web.zip' from 'https://www.sanskrit-lexicon.uni-koeln.de/scans/AEScan/2020/downloads/aeweb1.zip'.\n"
     ]
    },
    {
     "data": {
      "text/plain": [
       "True"
      ]
     },
     "execution_count": 4,
     "metadata": {},
     "output_type": "execute_result"
    }
   ],
   "source": [
    "CDSL.setup()"
   ]
  },
  {
   "cell_type": "code",
   "execution_count": 14,
   "id": "7e562af2",
   "metadata": {},
   "outputs": [],
   "source": [
    "results = CDSL[\"MW\"].search(\"ram\")\n"
   ]
  },
  {
   "cell_type": "code",
   "execution_count": 15,
   "id": "e221e524",
   "metadata": {},
   "outputs": [
    {
     "data": {
      "text/plain": [
       "[<MWEntry: 174928: रम् = रम् cl. 1. Ā. (Dhātup. xx, 23) रमते (Ved. also P. र/मति or रम्णाति pf. रराम, MBh.; रेमे, Br. &c.; aor. 3. pl. रन्त, RV.; अरंसीत्, Kāv.; अरंस्त, RV.; रंसिषम्, SV.; fut. रन्ता Gr.; रंस्यति, Br.; °ते, ib. &c.; inf. रमितुम्, MBh.; रन्तुम्, ib. &c.; रन्तोस्, Br.; ind.p. रत्वा/, ib.; रन्त्वा, Kāv.; -रम्य or -रत्य, Pāṇ. vi, 4, 38), to stop, stay, make fast, calm, set at rest (P.; esp. pres. रम्णाति), RV.; VS.;  (Ā. P.) to delight, make happy, enjoy carnally, MBh.; Hariv.; Śukas.;  (Ā.) to stand still, rest, abide, like to stay with (loc. or dat.), RV. &c. &c.;  (Ā.; P. only mc.) to be glad or pleased, rejoice at, delight in, be fond of (loc. instr. or inf.), RV. &c. &c.; to play or sport, dally, have sexual intercourse with (instr. with or without समम्, सह, साकम् or सार्धम्), ChUp.; MBh. &c.; to couple (said of deer), Pāṇ. iii, 1, 26, Vārtt. 8, Pat. (cf. Caus.); to play with i.e. put to stake (instr.), Bhaṭṭ. : Caus. रम/यति or राम/यति (aor. अ/रीरमत्), to cause to stay, stop, set at rest, RV.; TS.; PañcavBr.; KātyŚr.;  (रमयति, mc. also °ते) to gladden, delight, please, caress, enjoy carnally, MBh.; Kāv. &c. (3. sg. रमयति-तराम्, Ratnāv. iii, 9); to enjoy one's self, be pleased or delighted, MBh.; Hariv.;  मृगान् रमयति, he tells that the deer are coupling, Pāṇ. iii, 1, 26, Vārtt. 8, Pat. : Desid. in रिरंसा, °सु, q.v.: Desid. of Caus. in रिरमयिषु, q.v.: Intens. रंरम्यते or रंरमीति, Pāṇ. vii, 4, 85.>,\n",
       " <MWEntry: 174928.1: रम् = रम्   [cf. Zd. ram, Gk. ἠρέμα, ἔραμαι, ἐρατός; Lith. rimti; Goth. rimis.]>]"
      ]
     },
     "execution_count": 15,
     "metadata": {},
     "output_type": "execute_result"
    }
   ],
   "source": [
    "results"
   ]
  },
  {
   "cell_type": "code",
   "execution_count": 13,
   "id": "65b1e3bf",
   "metadata": {},
   "outputs": [
    {
     "ename": "AttributeError",
     "evalue": "'list' object has no attribute 'dtype'",
     "output_type": "error",
     "traceback": [
      "\u001b[0;31m---------------------------------------------------------------------------\u001b[0m",
      "\u001b[0;31mAttributeError\u001b[0m                            Traceback (most recent call last)",
      "\u001b[0;32m/tmp/ipykernel_17895/2774010567.py\u001b[0m in \u001b[0;36m<module>\u001b[0;34m\u001b[0m\n\u001b[0;32m----> 1\u001b[0;31m \u001b[0mresults\u001b[0m\u001b[0;34m.\u001b[0m\u001b[0mdtype\u001b[0m\u001b[0;34m\u001b[0m\u001b[0;34m\u001b[0m\u001b[0m\n\u001b[0m",
      "\u001b[0;31mAttributeError\u001b[0m: 'list' object has no attribute 'dtype'"
     ]
    }
   ],
   "source": []
  },
  {
   "cell_type": "code",
   "execution_count": null,
   "id": "eb21aaf7",
   "metadata": {},
   "outputs": [],
   "source": []
  }
 ],
 "metadata": {
  "kernelspec": {
   "display_name": "Python 3 (ipykernel)",
   "language": "python",
   "name": "python3"
  },
  "language_info": {
   "codemirror_mode": {
    "name": "ipython",
    "version": 3
   },
   "file_extension": ".py",
   "mimetype": "text/x-python",
   "name": "python",
   "nbconvert_exporter": "python",
   "pygments_lexer": "ipython3",
   "version": "3.9.13"
  }
 },
 "nbformat": 4,
 "nbformat_minor": 5
}
