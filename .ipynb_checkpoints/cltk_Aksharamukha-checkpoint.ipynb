{
 "cells": [
  {
   "cell_type": "raw",
   "id": "edaec465",
   "metadata": {},
   "source": [
    "pip install cltk\n"
   ]
  },
  {
   "cell_type": "code",
   "execution_count": 3,
   "id": "41ecc2b1",
   "metadata": {},
   "outputs": [
    {
     "name": "stdout",
     "output_type": "stream",
     "text": [
      "Collecting aksharamukha\n",
      "  Downloading aksharamukha-2.1.2-py3-none-any.whl (220 kB)\n",
      "\u001b[2K     \u001b[90m━━━━━━━━━━━━━━━━━━━━━━━━━━━━━━━━━━━━━━━\u001b[0m \u001b[32m220.8/220.8 kB\u001b[0m \u001b[31m4.5 MB/s\u001b[0m eta \u001b[36m0:00:00\u001b[0ma \u001b[36m0:00:01\u001b[0m\n",
      "\u001b[?25hCollecting pykakasi>=2.0.6\n",
      "  Downloading pykakasi-2.2.1-py3-none-any.whl (2.4 MB)\n",
      "\u001b[2K     \u001b[90m━━━━━━━━━━━━━━━━━━━━━━━━━━━━━━━━━━━━━━━━\u001b[0m \u001b[32m2.4/2.4 MB\u001b[0m \u001b[31m20.0 MB/s\u001b[0m eta \u001b[36m0:00:00\u001b[0m00:01\u001b[0m00:01\u001b[0m\n",
      "\u001b[?25hCollecting language-data\n",
      "  Downloading language_data-1.1-py3-none-any.whl (4.9 MB)\n",
      "\u001b[2K     \u001b[90m━━━━━━━━━━━━━━━━━━━━━━━━━━━━━━━━━━━━━━━━\u001b[0m \u001b[32m4.9/4.9 MB\u001b[0m \u001b[31m30.6 MB/s\u001b[0m eta \u001b[36m0:00:00\u001b[0m00:01\u001b[0m00:01\u001b[0m\n",
      "\u001b[?25hRequirement already satisfied: Requests>=2.20.1 in /home/kasyap/anaconda3/lib/python3.9/site-packages (from aksharamukha) (2.28.1)\n",
      "Requirement already satisfied: regex>=2021.8.3 in /home/kasyap/anaconda3/lib/python3.9/site-packages (from aksharamukha) (2022.7.9)\n",
      "Requirement already satisfied: lxml in /home/kasyap/anaconda3/lib/python3.9/site-packages (from aksharamukha) (4.9.1)\n",
      "Requirement already satisfied: langcodes>=3.1.0 in /home/kasyap/anaconda3/lib/python3.9/site-packages (from aksharamukha) (3.3.0)\n",
      "Requirement already satisfied: pyyaml>=5.4.1 in /home/kasyap/anaconda3/lib/python3.9/site-packages (from aksharamukha) (6.0)\n",
      "Collecting fonttools[unicode]>=4.27\n",
      "  Downloading fonttools-4.38.0-py3-none-any.whl (965 kB)\n",
      "\u001b[2K     \u001b[90m━━━━━━━━━━━━━━━━━━━━━━━━━━━━━━━━━━━━━━\u001b[0m \u001b[32m965.4/965.4 kB\u001b[0m \u001b[31m32.8 MB/s\u001b[0m eta \u001b[36m0:00:00\u001b[0m\n",
      "\u001b[?25hCollecting unicodedata2>=14.0.0\n",
      "  Downloading unicodedata2-15.0.0-cp39-cp39-manylinux_2_17_x86_64.manylinux2014_x86_64.whl (467 kB)\n",
      "\u001b[2K     \u001b[90m━━━━━━━━━━━━━━━━━━━━━━━━━━━━━━━━━━━━━━\u001b[0m \u001b[32m467.5/467.5 kB\u001b[0m \u001b[31m23.3 MB/s\u001b[0m eta \u001b[36m0:00:00\u001b[0m\n",
      "\u001b[?25hCollecting jaconv\n",
      "  Downloading jaconv-0.3.3.tar.gz (16 kB)\n",
      "  Preparing metadata (setup.py) ... \u001b[?25ldone\n",
      "\u001b[?25hCollecting deprecated\n",
      "  Downloading Deprecated-1.2.13-py2.py3-none-any.whl (9.6 kB)\n",
      "Requirement already satisfied: urllib3<1.27,>=1.21.1 in /home/kasyap/anaconda3/lib/python3.9/site-packages (from Requests>=2.20.1->aksharamukha) (1.26.11)\n",
      "Requirement already satisfied: certifi>=2017.4.17 in /home/kasyap/anaconda3/lib/python3.9/site-packages (from Requests>=2.20.1->aksharamukha) (2022.9.14)\n",
      "Requirement already satisfied: charset-normalizer<3,>=2 in /home/kasyap/anaconda3/lib/python3.9/site-packages (from Requests>=2.20.1->aksharamukha) (2.0.4)\n",
      "Requirement already satisfied: idna<4,>=2.5 in /home/kasyap/anaconda3/lib/python3.9/site-packages (from Requests>=2.20.1->aksharamukha) (3.3)\n",
      "Collecting marisa-trie<0.8.0,>=0.7.7\n",
      "  Downloading marisa_trie-0.7.8-cp39-cp39-manylinux_2_17_x86_64.manylinux2014_x86_64.whl (1.2 MB)\n",
      "\u001b[2K     \u001b[90m━━━━━━━━━━━━━━━━━━━━━━━━━━━━━━━━━━━━━━━━\u001b[0m \u001b[32m1.2/1.2 MB\u001b[0m \u001b[31m4.1 MB/s\u001b[0m eta \u001b[36m0:00:00\u001b[0m00:01\u001b[0m:00:01\u001b[0m\n",
      "\u001b[?25hRequirement already satisfied: setuptools in /home/kasyap/anaconda3/lib/python3.9/site-packages (from marisa-trie<0.8.0,>=0.7.7->language-data->aksharamukha) (63.4.1)\n",
      "Requirement already satisfied: wrapt<2,>=1.10 in /home/kasyap/anaconda3/lib/python3.9/site-packages (from deprecated->pykakasi>=2.0.6->aksharamukha) (1.14.1)\n",
      "Building wheels for collected packages: jaconv\n",
      "  Building wheel for jaconv (setup.py) ... \u001b[?25ldone\n",
      "\u001b[?25h  Created wheel for jaconv: filename=jaconv-0.3.3-py3-none-any.whl size=16151 sha256=814d7ba262ef31a3e97d9c2a8a980414fa0ba001571181a10f8434a67139b4b1\n",
      "  Stored in directory: /home/kasyap/.cache/pip/wheels/1b/e7/e4/20c7857ef47bdc620566198ef6bf17b732ea1a4fd7ebf68d0d\n",
      "Successfully built jaconv\n",
      "Installing collected packages: unicodedata2, jaconv, marisa-trie, fonttools, deprecated, pykakasi, language-data, aksharamukha\n",
      "  Attempting uninstall: fonttools\n",
      "    Found existing installation: fonttools 4.25.0\n",
      "    Uninstalling fonttools-4.25.0:\n",
      "      Successfully uninstalled fonttools-4.25.0\n",
      "Successfully installed aksharamukha-2.1.2 deprecated-1.2.13 fonttools-4.38.0 jaconv-0.3.3 language-data-1.1 marisa-trie-0.7.8 pykakasi-2.2.1 unicodedata2-15.0.0\n"
     ]
    }
   ],
   "source": [
    "!pip install aksharamukha"
   ]
  },
  {
   "cell_type": "code",
   "execution_count": 4,
   "id": "504a1914",
   "metadata": {},
   "outputs": [],
   "source": [
    "from aksharamukha import transliterate\n"
   ]
  },
  {
   "cell_type": "code",
   "execution_count": 17,
   "id": "5fadd4f9",
   "metadata": {},
   "outputs": [
    {
     "name": "stdout",
     "output_type": "stream",
     "text": [
      " उभ इत्यादिः\n"
     ]
    }
   ],
   "source": [
    "print(transliterate.process('autodetect', 'deva', ' उभ इत्यादिः', param=\"script_code\"))\n"
   ]
  },
  {
   "cell_type": "code",
   "execution_count": 10,
   "id": "6791c1c5",
   "metadata": {},
   "outputs": [
    {
     "name": "stdout",
     "output_type": "stream",
     "text": [
      "MeeteiMayek\n"
     ]
    }
   ],
   "source": [
    "print(transliterate.auto_detect('ꯃꯤꯇꯩ_ꯃꯌꯦꯛ'))\n"
   ]
  },
  {
   "cell_type": "code",
   "execution_count": null,
   "id": "78bd0a90",
   "metadata": {},
   "outputs": [],
   "source": []
  },
  {
   "cell_type": "code",
   "execution_count": null,
   "id": "505242b0",
   "metadata": {},
   "outputs": [],
   "source": []
  },
  {
   "cell_type": "code",
   "execution_count": null,
   "id": "e5934675",
   "metadata": {},
   "outputs": [],
   "source": []
  },
  {
   "cell_type": "code",
   "execution_count": 1,
   "id": "a8b6ac17",
   "metadata": {},
   "outputs": [
    {
     "name": "stderr",
     "output_type": "stream",
     "text": [
      "/home/kasyap/anaconda3/lib/python3.9/site-packages/torch/cuda/__init__.py:88: UserWarning: CUDA initialization: The NVIDIA driver on your system is too old (found version 10000). Please update your GPU driver by downloading and installing a new version from the URL: http://www.nvidia.com/Download/index.aspx Alternatively, go to: https://pytorch.org to install a PyTorch version that has been compiled with your version of the CUDA driver. (Triggered internally at ../c10/cuda/CUDAFunctions.cpp:109.)\n",
      "  return torch._C._cuda_getDeviceCount() > 0\n",
      "2023-01-26 19:55:02.823082: I tensorflow/core/platform/cpu_feature_guard.cc:193] This TensorFlow binary is optimized with oneAPI Deep Neural Network Library (oneDNN) to use the following CPU instructions in performance-critical operations:  AVX2 FMA\n",
      "To enable them in other operations, rebuild TensorFlow with the appropriate compiler flags.\n",
      "2023-01-26 19:55:03.978884: W tensorflow/compiler/xla/stream_executor/platform/default/dso_loader.cc:64] Could not load dynamic library 'libnvinfer.so.7'; dlerror: libnvinfer.so.7: cannot open shared object file: No such file or directory; LD_LIBRARY_PATH: /data/apps/openmpi-2.1.4/lib:/usr/local/cuda/lib64:\n",
      "2023-01-26 19:55:03.979002: W tensorflow/compiler/xla/stream_executor/platform/default/dso_loader.cc:64] Could not load dynamic library 'libnvinfer_plugin.so.7'; dlerror: libnvinfer_plugin.so.7: cannot open shared object file: No such file or directory; LD_LIBRARY_PATH: /data/apps/openmpi-2.1.4/lib:/usr/local/cuda/lib64:\n",
      "2023-01-26 19:55:03.979015: W tensorflow/compiler/tf2tensorrt/utils/py_utils.cc:38] TF-TRT Warning: Cannot dlopen some TensorRT libraries. If you would like to use Nvidia GPU with TensorRT, please make sure the missing libraries mentioned above are installed properly.\n",
      "2023-01-26 19:55:04.876861: W tensorflow/compiler/xla/stream_executor/platform/default/dso_loader.cc:64] Could not load dynamic library 'libcufft.so.10'; dlerror: libcufft.so.10: cannot open shared object file: No such file or directory; LD_LIBRARY_PATH: /data/apps/openmpi-2.1.4/lib:/usr/local/cuda/lib64:\n",
      "2023-01-26 19:55:04.876973: W tensorflow/compiler/xla/stream_executor/platform/default/dso_loader.cc:64] Could not load dynamic library 'libcurand.so.10'; dlerror: libcurand.so.10: cannot open shared object file: No such file or directory; LD_LIBRARY_PATH: /data/apps/openmpi-2.1.4/lib:/usr/local/cuda/lib64:\n",
      "2023-01-26 19:55:04.877054: W tensorflow/compiler/xla/stream_executor/platform/default/dso_loader.cc:64] Could not load dynamic library 'libcusolver.so.11'; dlerror: libcusolver.so.11: cannot open shared object file: No such file or directory; LD_LIBRARY_PATH: /data/apps/openmpi-2.1.4/lib:/usr/local/cuda/lib64:\n",
      "2023-01-26 19:55:04.877129: W tensorflow/compiler/xla/stream_executor/platform/default/dso_loader.cc:64] Could not load dynamic library 'libcusparse.so.11'; dlerror: libcusparse.so.11: cannot open shared object file: No such file or directory; LD_LIBRARY_PATH: /data/apps/openmpi-2.1.4/lib:/usr/local/cuda/lib64:\n",
      "2023-01-26 19:55:04.877182: W tensorflow/core/common_runtime/gpu/gpu_device.cc:1934] Cannot dlopen some GPU libraries. Please make sure the missing libraries mentioned above are installed properly if you would like to use GPU. Follow the guide at https://www.tensorflow.org/install/gpu for how to download and setup the required libraries for your platform.\n",
      "Skipping registering GPU devices...\n"
     ]
    }
   ],
   "source": [
    "from cltk.data.fetch import FetchCorpus\n",
    "corpus_downloader = FetchCorpus(language=\"san\")"
   ]
  },
  {
   "cell_type": "code",
   "execution_count": 9,
   "id": "948a5f94",
   "metadata": {},
   "outputs": [],
   "source": [
    "import os\n"
   ]
  },
  {
   "cell_type": "code",
   "execution_count": 11,
   "id": "af0c94be",
   "metadata": {},
   "outputs": [
    {
     "data": {
      "text/plain": [
       "'/home/kasyap/search'"
      ]
     },
     "execution_count": 11,
     "metadata": {},
     "output_type": "execute_result"
    }
   ],
   "source": [
    "pwd\n"
   ]
  },
  {
   "cell_type": "code",
   "execution_count": 6,
   "id": "566be627",
   "metadata": {},
   "outputs": [
    {
     "data": {
      "text/plain": [
       "['sanskrit_text_jnu',\n",
       " 'sanskrit_text_dcs',\n",
       " 'sanskrit_parallel_sacred_texts',\n",
       " 'sanskrit_text_sacred_texts',\n",
       " 'sanskrit_parallel_gitasupersite',\n",
       " 'sanskrit_text_gitasupersite',\n",
       " 'sanskrit_text_wikipedia',\n",
       " 'sanskrit_text_sanskrit_documents',\n",
       " 'san_models_cltk']"
      ]
     },
     "execution_count": 6,
     "metadata": {},
     "output_type": "execute_result"
    }
   ],
   "source": [
    "corpus_downloader.list_corpora\n"
   ]
  },
  {
   "cell_type": "code",
   "execution_count": 19,
   "id": "332e1da3",
   "metadata": {},
   "outputs": [
    {
     "name": "stdout",
     "output_type": "stream",
     "text": [
      "Downloaded 100% 2.82 MiB | 1.26 MiB/s /s \r"
     ]
    }
   ],
   "source": [
    "corpus_downloader.import_corpus('sanskrit_text_gitasupersite')\n"
   ]
  },
  {
   "cell_type": "code",
   "execution_count": 25,
   "id": "f27121ab",
   "metadata": {},
   "outputs": [],
   "source": [
    "sanskrit_corpus_path = '/home/kasyap/cltk_data/san/text/sanskrit_text_gitasupersite/bhagavadgita/'"
   ]
  },
  {
   "cell_type": "code",
   "execution_count": 27,
   "id": "9d6069f0",
   "metadata": {},
   "outputs": [],
   "source": [
    "sanskrit_text_path = os.path.join(sanskrit_corpus_path,'chapter_14_sanskrit.txt')\n"
   ]
  },
  {
   "cell_type": "code",
   "execution_count": 28,
   "id": "d6917ab1",
   "metadata": {},
   "outputs": [],
   "source": [
    "sanskrit_text = open(sanskrit_text_path,'r').read()\n"
   ]
  },
  {
   "cell_type": "code",
   "execution_count": 29,
   "id": "75116eff",
   "metadata": {
    "scrolled": true
   },
   "outputs": [
    {
     "name": "stdout",
     "output_type": "stream",
     "text": [
      "श्री भगवानुवाच परं भूयः प्रवक्ष्यामि ज्ञानानां ज्ञानमुत्तमम्। यज्ज्ञात्वा मुनयः सर्वे परां सिद्धिमितो गताः।।\n",
      "इदं ज्ञानमुपाश्रित्य मम साधर्म्यमागताः। सर्गेऽपि नोपजायन्ते प्रलये न व्यथन्ति च।।\n",
      "मम योनिर्महद्ब्रह्म तस्मिन् गर्भं दधाम्यहम्। संभवः सर्वभूतानां ततो भवति भारत।।\n",
      "सर्वयोनिषु कौन्तेय मूर्तयः सम्भवन्ति याः। तासां ब्रह्म महद्योनिरहं बीजप्रदः पिता।।\n",
      "सत्त्वं रजस्तम इति गुणाः प्रकृतिसंभवाः। निबध्नन्ति महाबाहो देहे देहिनमव्ययम्।।\n",
      "तत्र सत्त्वं निर्मलत्वात्प्रकाशकमनामयम्। सुखसङ्गेन बध्नाति ज्ञानसङ्गेन चानघ।।\n",
      "रजो रागात्मकं विद्धि तृष्णासङ्गसमुद्भवम्। तन्निबध्नाति कौन्तेय कर्मसङ्गेन देहिनम्।।\n",
      "तमस्त्वज्ञानजं विद्धि मोहनं सर्वदेहिनाम्। प्रमादालस्यनिद्राभिस्तन्निबध्नाति भारत।।\n",
      "सत्त्वं सुखे सञ्जयति रजः कर्मणि भारत। ज्ञानमावृत्य तु तमः प्रमादे सञ्जयत्युत।।\n",
      "रजस्तमश्चाभिभूय सत्त्वं भवति भारत। रजः सत्त्वं तमश्चैव तमः सत्त्वं रजस्तथा।।\n",
      "सर्वद्वारेषु देहेऽस्मिन्प्रकाश उपजायते। ज्ञानं यदा तदा विद्याद्विवृद्धं सत्त्वमित्युत।।\n",
      "लोभः प्रवृत्तिरारम्भः कर्मणामशमः स्पृहा। रजस्येतानि जायन्ते विवृद्धे भरतर्षभ।।\n",
      "अप्रकाशोऽप्रवृत्तिश्च प्रमादो मोह एव च। तमस्येतानि जायन्ते विवृद्धे कुरुनन्दन।।\n",
      "यदा सत्त्वे प्रवृद्धे तु प्रलयं याति देहभृत्। तदोत्तमविदां लोकानमलान्प्रतिपद्यते।।\n",
      "रजसि प्रलयं गत्वा कर्मसङ्गिषु जायते। तथा प्रलीनस्तमसि मूढयोनिषु जायते।।\n",
      "कर्मणः सुकृतस्याहुः सात्त्विकं निर्मलं फलम्। रजसस्तु फलं दुःखमज्ञानं तमसः फलम्।।\n",
      "सत्त्वात्सञ्जायते ज्ञानं रजसो लोभ एव च। प्रमादमोहौ तमसो भवतोऽज्ञानमेव च।।\n",
      "ऊर्ध्वं गच्छन्ति सत्त्वस्था मध्ये तिष्ठन्ति राजसाः। जघन्यगुणवृत्तिस्था अधो गच्छन्ति तामसाः।।\n",
      "नान्यं गुणेभ्यः कर्तारं यदा द्रष्टानुपश्यति। गुणेभ्यश्च परं वेत्ति मद्भावं सोऽधिगच्छति।।\n",
      "गुणानेतानतीत्य त्रीन्देही देहसमुद्भवान्। जन्ममृत्युजरादुःखैर्विमुक्तोऽमृतमश्नुते।।\n",
      "अर्जुन उवाच कैर्लिंगैस्त्रीन्गुणानेतानतीतो भवति प्रभो। किमाचारः कथं चैतांस्त्रीन्गुणानतिवर्तते।।\n",
      "श्री भगवानुवाच प्रकाशं च प्रवृत्तिं च मोहमेव च पाण्डव। न द्वेष्टि सम्प्रवृत्तानि न निवृत्तानि काङ्क्षति।।\n",
      "उदासीनवदासीनो गुणैर्यो न विचाल्यते। गुणा वर्तन्त इत्येव योऽवतिष्ठति नेङ्गते।।\n",
      "समदुःखसुखः स्वस्थः समलोष्टाश्मकाञ्चनः। तुल्यप्रियाप्रियो धीरस्तुल्यनिन्दात्मसंस्तुतिः।।\n",
      "मानापमानयोस्तुल्यस्तुल्यो मित्रारिपक्षयोः। सर्वारम्भपरित्यागी गुणातीतः स उच्यते।।\n",
      "मां च योऽव्यभिचारेण भक्ितयोगेन सेवते। स गुणान्समतीत्यैतान् ब्रह्मभूयाय कल्पते।।\n",
      "ब्रह्मणो हि प्रतिष्ठाऽहममृतस्याव्ययस्य च। शाश्वतस्य च धर्मस्य सुखस्यैकान्तिकस्य च।।\n",
      "\n"
     ]
    }
   ],
   "source": [
    "print(sanskrit_text)\n"
   ]
  },
  {
   "cell_type": "code",
   "execution_count": null,
   "id": "c01860e9",
   "metadata": {},
   "outputs": [],
   "source": []
  }
 ],
 "metadata": {
  "kernelspec": {
   "display_name": "Python 3 (ipykernel)",
   "language": "python",
   "name": "python3"
  },
  "language_info": {
   "codemirror_mode": {
    "name": "ipython",
    "version": 3
   },
   "file_extension": ".py",
   "mimetype": "text/x-python",
   "name": "python",
   "nbconvert_exporter": "python",
   "pygments_lexer": "ipython3",
   "version": "3.9.13"
  }
 },
 "nbformat": 4,
 "nbformat_minor": 5
}
