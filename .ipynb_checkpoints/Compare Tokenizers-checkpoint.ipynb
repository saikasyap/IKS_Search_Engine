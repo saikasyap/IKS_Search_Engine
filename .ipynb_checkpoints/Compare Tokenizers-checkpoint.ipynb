{
 "cells": [
  {
   "cell_type": "markdown",
   "id": "76d2713e",
   "metadata": {},
   "source": [
    "# CLTK Tokenizer"
   ]
  },
  {
   "cell_type": "code",
   "execution_count": 3,
   "id": "8bfdc75c",
   "metadata": {},
   "outputs": [],
   "source": [
    "from cltk import NLP"
   ]
  },
  {
   "cell_type": "code",
   "execution_count": 4,
   "id": "e859cf37",
   "metadata": {},
   "outputs": [
    {
     "name": "stdout",
     "output_type": "stream",
     "text": [
      "‎𐤀 CLTK version '1.1.6'.\n",
      "Pipeline for language 'Sanskrit' (ISO: 'san'): `MultilingualTokenizationProcess`, `SanskritEmbeddingsProcess`, `StopsProcess`.\n"
     ]
    }
   ],
   "source": [
    "cltk_nlp = NLP(language=\"san\")\n"
   ]
  },
  {
   "cell_type": "code",
   "execution_count": 5,
   "id": "0d1212c8",
   "metadata": {},
   "outputs": [
    {
     "name": "stdout",
     "output_type": "stream",
     "text": [
      "[<class 'cltk.tokenizers.processes.MultilingualTokenizationProcess'>,\n",
      " <class 'cltk.embeddings.processes.SanskritEmbeddingsProcess'>,\n",
      " <class 'cltk.stops.processes.StopsProcess'>]\n"
     ]
    }
   ],
   "source": [
    "from pprint import pprint\n",
    "pprint(cltk_nlp.pipeline.processes)"
   ]
  },
  {
   "cell_type": "code",
   "execution_count": 6,
   "id": "8400553e",
   "metadata": {},
   "outputs": [],
   "source": [
    "sanskrit_text_example = 'वार्त्तापत्रम् अर्वाचीनकाले मानवस्य जीवनमस्ति । वार्त्तापत्रम् अस्माकं ज्ञानस्य गंङगा इव।यथा प्रभाते करदर्शनम् आवश्यकं सञ्जताम्।'\n"
   ]
  },
  {
   "cell_type": "code",
   "execution_count": 7,
   "id": "3b513c28",
   "metadata": {},
   "outputs": [
    {
     "name": "stdout",
     "output_type": "stream",
     "text": [
      "CLTK message: This part of the CLTK depends upon word embedding models from the Fasttext project.\n",
      "Do you want to download file 'https://dl.fbaipublicfiles.com/fasttext/vectors-wiki/wiki.sa.vec' to '/home/kasyap/cltk_data/san/embeddings/fasttext/wiki.sa.vec'? [Y/n] \n",
      "Y\n"
     ]
    },
    {
     "name": "stderr",
     "output_type": "stream",
     "text": [
      "100%|███████████████████████████████████████████████████████████████████████████████| 129M/129M [00:11<00:00, 11.2MiB/s]\n"
     ]
    }
   ],
   "source": [
    " cltk_doc = cltk_nlp.analyze(sanskrit_text_example)"
   ]
  },
  {
   "cell_type": "code",
   "execution_count": 8,
   "id": "9c533ba9",
   "metadata": {},
   "outputs": [
    {
     "data": {
      "text/plain": [
       "Doc(language='san', words=[Word(index_char_start=0, index_char_stop=14, index_token=0, index_sentence=None, string='वार्त्तापत्रम्', pos=None, lemma=None, stem=None, scansion=None, xpos=None, upos=None, dependency_relation=None, governor=None, features={}, category={}, stop=False, named_entity=None, syllables=None, phonetic_transcription=None, definition=None), Word(index_char_start=15, index_char_stop=27, index_token=1, index_sentence=None, string='अर्वाचीनकाले', pos=None, lemma=None, stem=None, scansion=None, xpos=None, upos=None, dependency_relation=None, governor=None, features={}, category={}, stop=False, named_entity=None, syllables=None, phonetic_transcription=None, definition=None), Word(index_char_start=28, index_char_stop=35, index_token=2, index_sentence=None, string='मानवस्य', pos=None, lemma=None, stem=None, scansion=None, xpos=None, upos=None, dependency_relation=None, governor=None, features={}, category={}, stop=False, named_entity=None, syllables=None, phonetic_transcription=None, definition=None), Word(index_char_start=36, index_char_stop=45, index_token=3, index_sentence=None, string='जीवनमस्ति', pos=None, lemma=None, stem=None, scansion=None, xpos=None, upos=None, dependency_relation=None, governor=None, features={}, category={}, stop=False, named_entity=None, syllables=None, phonetic_transcription=None, definition=None), Word(index_char_start=46, index_char_stop=47, index_token=4, index_sentence=None, string='।', pos=None, lemma=None, stem=None, scansion=None, xpos=None, upos=None, dependency_relation=None, governor=None, features={}, category={}, stop=False, named_entity=None, syllables=None, phonetic_transcription=None, definition=None), Word(index_char_start=48, index_char_stop=62, index_token=5, index_sentence=None, string='वार्त्तापत्रम्', pos=None, lemma=None, stem=None, scansion=None, xpos=None, upos=None, dependency_relation=None, governor=None, features={}, category={}, stop=False, named_entity=None, syllables=None, phonetic_transcription=None, definition=None), Word(index_char_start=63, index_char_stop=70, index_token=6, index_sentence=None, string='अस्माकं', pos=None, lemma=None, stem=None, scansion=None, xpos=None, upos=None, dependency_relation=None, governor=None, features={}, category={}, stop=False, named_entity=None, syllables=None, phonetic_transcription=None, definition=None), Word(index_char_start=71, index_char_stop=79, index_token=7, index_sentence=None, string='ज्ञानस्य', pos=None, lemma=None, stem=None, scansion=None, xpos=None, upos=None, dependency_relation=None, governor=None, features={}, category={}, stop=False, named_entity=None, syllables=None, phonetic_transcription=None, definition=None), Word(index_char_start=80, index_char_stop=85, index_token=8, index_sentence=None, string='गंङगा', pos=None, lemma=None, stem=None, scansion=None, xpos=None, upos=None, dependency_relation=None, governor=None, features={}, category={}, stop=False, named_entity=None, syllables=None, phonetic_transcription=None, definition=None), Word(index_char_start=86, index_char_stop=92, index_token=9, index_sentence=None, string='इव।यथा', pos=None, lemma=None, stem=None, scansion=None, xpos=None, upos=None, dependency_relation=None, governor=None, features={}, category={}, stop=False, named_entity=None, syllables=None, phonetic_transcription=None, definition=None), Word(index_char_start=93, index_char_stop=100, index_token=10, index_sentence=None, string='प्रभाते', pos=None, lemma=None, stem=None, scansion=None, xpos=None, upos=None, dependency_relation=None, governor=None, features={}, category={}, stop=False, named_entity=None, syllables=None, phonetic_transcription=None, definition=None), Word(index_char_start=101, index_char_stop=110, index_token=11, index_sentence=None, string='करदर्शनम्', pos=None, lemma=None, stem=None, scansion=None, xpos=None, upos=None, dependency_relation=None, governor=None, features={}, category={}, stop=False, named_entity=None, syllables=None, phonetic_transcription=None, definition=None), Word(index_char_start=111, index_char_stop=118, index_token=12, index_sentence=None, string='आवश्यकं', pos=None, lemma=None, stem=None, scansion=None, xpos=None, upos=None, dependency_relation=None, governor=None, features={}, category={}, stop=False, named_entity=None, syllables=None, phonetic_transcription=None, definition=None), Word(index_char_start=119, index_char_stop=128, index_token=13, index_sentence=None, string='सञ्जताम्।', pos=None, lemma=None, stem=None, scansion=None, xpos=None, upos=None, dependency_relation=None, governor=None, features={}, category={}, stop=False, named_entity=None, syllables=None, phonetic_transcription=None, definition=None)], pipeline=None, raw='वार्त्तापत्रम् अर्वाचीनकाले मानवस्य जीवनमस्ति । वार्त्तापत्रम् अस्माकं ज्ञानस्य गंङगा इव।यथा प्रभाते करदर्शनम् आवश्यकं सञ्जताम्।', normalized_text=None)"
      ]
     },
     "execution_count": 8,
     "metadata": {},
     "output_type": "execute_result"
    }
   ],
   "source": [
    "cltk_doc"
   ]
  },
  {
   "cell_type": "code",
   "execution_count": 9,
   "id": "692a7d02",
   "metadata": {},
   "outputs": [],
   "source": [
    "from cltk.sentence.san import SanskritRegexSentenceTokenizer\n"
   ]
  },
  {
   "cell_type": "code",
   "execution_count": 10,
   "id": "d08f1b9a",
   "metadata": {},
   "outputs": [],
   "source": [
    "tokenizer = SanskritRegexSentenceTokenizer()"
   ]
  },
  {
   "cell_type": "code",
   "execution_count": 30,
   "id": "dfbdcfcd",
   "metadata": {},
   "outputs": [],
   "source": [
    "\"\"\"Test tokenizing Sanskrit sentences.\"\"\"\n",
    "text = \"\"\"श्री भगवानुवाच भूय एव महाबाहो श्रृणु मे परमं वचः। यत्तेऽहं प्रीयमाणाय वक्ष्यामि हितकाम्यया।।\n",
    "न मे विदुः सुरगणाः प्रभवं न महर्षयः। अहमादिर्हि देवानां महर्षीणां च सर्वशः।।\"\"\"\n",
    "target = [\n",
    "            \"श्री भगवानुवाच भूय एव महाबाहो श्रृणु मे परमं वचः।\",\n",
    "            \"यत्तेऽहं प्रीयमाणाय वक्ष्यामि हितकाम्यया।।\",\n",
    "            \"न मे विदुः सुरगणाः प्रभवं न महर्षयः।\",\n",
    "            \"अहमादिर्हि देवानां महर्षीणां च सर्वशः।।\",\n",
    "        ]\n",
    "        \n",
    "        #self.assertEqual(tokenized_sentences, target)"
   ]
  },
  {
   "cell_type": "code",
   "execution_count": 12,
   "id": "958561be",
   "metadata": {},
   "outputs": [],
   "source": [
    "tokenized_sentences = tokenizer.tokenize(text)\n"
   ]
  },
  {
   "cell_type": "code",
   "execution_count": null,
   "id": "2108e663",
   "metadata": {},
   "outputs": [],
   "source": []
  },
  {
   "cell_type": "code",
   "execution_count": 13,
   "id": "ba4e3d78",
   "metadata": {},
   "outputs": [
    {
     "name": "stdout",
     "output_type": "stream",
     "text": [
      "['श्री भगवानुवाच भूय एव महाबाहो श्रृणु मे परमं वचः।', 'यत्तेऽहं प्रीयमाणाय वक्ष्यामि हितकाम्यया।।', 'न मे विदुः सुरगणाः प्रभवं न महर्षयः।', 'अहमादिर्हि देवानां महर्षीणां च सर्वशः।।']\n"
     ]
    }
   ],
   "source": [
    "print(tokenized_sentences)"
   ]
  },
  {
   "cell_type": "code",
   "execution_count": 14,
   "id": "77bf1b80",
   "metadata": {},
   "outputs": [
    {
     "data": {
      "text/plain": [
       "['वार्त्तापत्रम् अर्वाचीनकाले मानवस्य जीवनमस्ति ।',\n",
       " 'वार्त्तापत्रम् अस्माकं ज्ञानस्य गंङगा इव।यथा प्रभाते करदर्शनम् आवश्यकं सञ्जताम्।']"
      ]
     },
     "execution_count": 14,
     "metadata": {},
     "output_type": "execute_result"
    }
   ],
   "source": [
    "tokenizer.tokenize(sanskrit_text_example)"
   ]
  },
  {
   "cell_type": "markdown",
   "id": "0b6093f0",
   "metadata": {},
   "source": [
    "# Sanskrit Parser"
   ]
  },
  {
   "cell_type": "code",
   "execution_count": 27,
   "id": "c6f163d2",
   "metadata": {},
   "outputs": [],
   "source": [
    "from sanskrit_parser import Parser\n",
    "from indic_transliteration import sanscript"
   ]
  },
  {
   "cell_type": "code",
   "execution_count": 28,
   "id": "66859d4d",
   "metadata": {},
   "outputs": [],
   "source": [
    "parser = Parser(output_encoding=sanscript.DEVANAGARI)"
   ]
  },
  {
   "cell_type": "code",
   "execution_count": 29,
   "id": "23d332d4",
   "metadata": {},
   "outputs": [
    {
     "name": "stdout",
     "output_type": "stream",
     "text": [
      "['तस्मात्', 'समस्त', 'क्षत्र', 'वर्ग', 'गर्व', 'पाटन', 'वरिष्ठ', 'धारा', 'परशु', 'अध', 'भरण', 'भीषण', 'वेष', 'भार्गव', 'भङ्गात्', 'अपरि', 'छिन्न', 'तर', 'शौर्य', 'शालि', 'नि']\n",
      "['तस्मात्', 'समस्त', 'क्षत्र', 'वर्ग', 'गर्व', 'पाटन', 'वरिष्ठ', 'ध', 'आरा', 'परश्वध', 'भरण', 'भीषण', 'वेष', 'भार्गव', 'भङ्गात्', 'अपरि', 'छिन्न', 'तर', 'शौर्य', 'शालि', 'नि']\n",
      "['तस्मात्', 'समस्त', 'क्षत्र', 'वर्ग', 'गर्व', 'पाटन', 'वरिष्ठ', 'धारा', 'परशु', 'अध', 'भरण', 'भीषण', 'वेष', 'भार्गव', 'भङ्गात्', 'अपरि', 'छिन्न', 'तर', 'शौर्य', 'शालिनि']\n",
      "['तस्मात्', 'समस्त', 'क्षत्र', 'वर्ग', 'गर्व', 'पाटन', 'वरिष्ठ', 'ध', 'आरा', 'परश्वध', 'भरण', 'भीषण', 'वेष', 'भार्गव', 'भङ्गात्', 'अपरि', 'छिन्न', 'तर', 'शौर्य', 'शालिनि']\n",
      "['तस्मात्', 'समस्त', 'क्षत्र', 'वर्ग', 'गर्व', 'पाटन', 'वरिष्ठ', 'धारा', 'परश्वध', 'भरण', 'भीषण', 'वेष', 'भार्गव', 'भङ्गात्', 'अपरि', 'छिन्न', 'तर', 'शौर्य', 'शालि', 'नि']\n",
      "['तस्मात्', 'समस्त', 'क्षत्र', 'वर्ग', 'गर्व', 'पाट', 'न', 'वरिष्ठ', 'धारा', 'परशु', 'अध', 'भरण', 'भीषण', 'वेष', 'भार्गव', 'भङ्गात्', 'अपरि', 'छिन्न', 'तर', 'शौर्य', 'शालिनि']\n",
      "['तस्मात्', 'समस्त', 'क्षत्र', 'वर्ग', 'गर्व', 'पाटन', 'वरिष्ठ', 'धारा', 'परश्वध', 'भरण', 'भीषण', 'वेष', 'भार्गव', 'भङ्गात्', 'अपरि', 'छिन्न', 'तर', 'शौर्य', 'शालिनि']\n",
      "['तस्मात्', 'समस्त', 'क्षत्र', 'वर्ग', 'गर्व', 'पाट', 'न', 'वरिष्ठ', 'धारा', 'परश्वध', 'भरण', 'भीषण', 'वेष', 'भार्गव', 'भङ्गात्', 'अपरि', 'छिन्न', 'तर', 'शौर्य', 'शालिनि']\n",
      "['तस्मात्', 'समस्त', 'क्षत्र', 'वर्ग', 'गर्व', 'पाटन', 'वरिष्ठ', 'धारा', 'परश्व', 'ध', 'भरण', 'भीषण', 'वेष', 'भार्गव', 'भङ्गात्', 'अपरि', 'छिन्न', 'तर', 'शौर्य', 'शालि', 'नि']\n",
      "['तस्मात्', 'समस्त', 'क्षत्र', 'वर्ग', 'गर्व', 'पाटन', 'वरिष्ठ', 'धारा', 'परश्व', 'ध', 'भरण', 'भीषण', 'वेष', 'भार्गव', 'भङ्गात्', 'अपरि', 'छिन्न', 'तर', 'शौर्य', 'शालिनि']\n"
     ]
    }
   ],
   "source": [
    "text = 'तस्मात्समस्तक्षत्रवर्गगर्वपाटनवरिष्ठधारापरश्वधभरणभीषणवेषभार्गवभङ्गादपरिच्छिन्नतरशौर्यशालिनि'\n",
    "splits = parser.split(text, limit=10)\n",
    "for split in splits:\n",
    "    print(f'{split}')"
   ]
  },
  {
   "cell_type": "code",
   "execution_count": 33,
   "id": "97499715",
   "metadata": {},
   "outputs": [
    {
     "name": "stdout",
     "output_type": "stream",
     "text": [
      "['वार्त्ता', 'पत्रम्', 'अर्वाच्', 'ईन्', 'अकाले', 'मानवस्य', 'जीवनम्', 'अस्ति', 'वार्त्ता', 'पत्रम्', 'अस्माकम्', 'ज्ञानस्य', 'गम्', 'ङ', 'गौ', 'इव', 'यथा', 'प्रभाते', 'कर', 'दर्शनम्', 'आवश्यकम्', 'सन्', 'ज', 'ताम्']\n",
      "['वार्त्ता', 'पत्रम्', 'अः', 'वाची', 'न', 'काले', 'मानवस्य', 'जीवनम्', 'अस्ति', 'वार्त्ता', 'पत्रम्', 'अस्माकम्', 'ज्ञानस्य', 'गम्', 'ङ', 'गौ', 'इव', 'यथा', 'प्रभाते', 'कर', 'दर्शनम्', 'आवश्यकम्', 'सन्', 'ज', 'ताम्']\n",
      "['वार्त्ता', 'पत्रम्', 'अः', 'वाची', 'न', 'काले', 'मानवस्य', 'जीव', 'नम्', 'अस्ति', 'वार्त्ता', 'पत्रम्', 'अस्माकम्', 'ज्ञानस्य', 'गम्', 'ङ', 'गौ', 'इव', 'यथा', 'प्रभाते', 'कर', 'दर्शनम्', 'आवश्यकम्', 'सन्', 'ज', 'ताम्']\n",
      "['वार्त्ता', 'पत्रम्', 'अर्वाचीन', 'काले', 'मानवस्य', 'जीवनम्', 'अस्ति', 'वार्त्ता', 'पत्रम्', 'अस्माकम्', 'ज्ञानस्य', 'गम्', 'ङ', 'गौ', 'इव', 'यथा', 'प्रभाते', 'कर', 'दर्शनम्', 'आवश्यकम्', 'सन्', 'ज', 'ताम्']\n",
      "['वार्त्ता', 'पत्रम्', 'अर्वाच्', 'ईन्', 'अकाले', 'मानवस्य', 'जीव', 'नम्', 'अस्ति', 'वार्त्ता', 'पत्रम्', 'अस्माकम्', 'ज्ञानस्य', 'गम्', 'ङ', 'गौ', 'इव', 'यथा', 'प्रभाते', 'कर', 'दर्शनम्', 'आवश्यकम्', 'सन्', 'ज', 'ताम्']\n",
      "['वार्त्ता', 'पत्रम्', 'अर्वाचीन', 'काले', 'मानवस्य', 'जीव', 'नम्', 'अस्ति', 'वार्त्ता', 'पत्रम्', 'अस्माकम्', 'ज्ञानस्य', 'गम्', 'ङ', 'गौ', 'इव', 'यथा', 'प्रभाते', 'कर', 'दर्शनम्', 'आवश्यकम्', 'सन्', 'ज', 'ताम्']\n",
      "['वार्त्ता', 'पत्रम्', 'अर्वाची', 'न', 'काले', 'मानवस्य', 'जीवनम्', 'अस्ति', 'वार्त्ता', 'पत्रम्', 'अस्माकम्', 'ज्ञानस्य', 'गम्', 'ङ', 'गौ', 'इव', 'यथा', 'प्रभाते', 'कर', 'दर्शनम्', 'आवश्यकम्', 'सन्', 'ज', 'ताम्']\n",
      "['वार्त्ता', 'पत्रम्', 'अर्वाची', 'न', 'काले', 'मानवस्य', 'जीव', 'नम्', 'अस्ति', 'वार्त्ता', 'पत्रम्', 'अस्माकम्', 'ज्ञानस्य', 'गम्', 'ङ', 'गौ', 'इव', 'यथा', 'प्रभाते', 'कर', 'दर्शनम्', 'आवश्यकम्', 'सन्', 'ज', 'ताम्']\n",
      "['वार्त्ता', 'पत्रम्', 'अर्वा', 'चीन', 'काले', 'मानवस्य', 'जीवनम्', 'अस्ति', 'वार्त्ता', 'पत्रम्', 'अस्माकम्', 'ज्ञानस्य', 'गम्', 'ङ', 'गौ', 'इव', 'यथा', 'प्रभाते', 'कर', 'दर्शनम्', 'आवश्यकम्', 'सन्', 'ज', 'ताम्']\n",
      "['वार्त्ता', 'पत्रम्', 'अर्वा', 'चीन', 'काले', 'मानवस्य', 'जीव', 'नम्', 'अस्ति', 'वार्त्ता', 'पत्रम्', 'अस्माकम्', 'ज्ञानस्य', 'गम्', 'ङ', 'गौ', 'इव', 'यथा', 'प्रभाते', 'कर', 'दर्शनम्', 'आवश्यकम्', 'सन्', 'ज', 'ताम्']\n"
     ]
    }
   ],
   "source": [
    "splits = parser.split(sanskrit_text_example)\n",
    "for split in splits:\n",
    "    print(f'{split}')"
   ]
  },
  {
   "cell_type": "code",
   "execution_count": 34,
   "id": "3724a48e",
   "metadata": {},
   "outputs": [
    {
     "data": {
      "text/plain": [
       "[Split(वार्त्तापत्रम् अर्वाचीनकाले मानवस्य जीवनमस्ति । वार्त्तापत्रम् अस्माकं ज्ञानस्य गंङगा इव।यथा प्रभाते करदर्शनम् आवश्यकं सञ्जताम्।) = [vArttA, patram, arvAc, In, akAle, mAnavasya, jIvanam, asti, vArttA, patram, asmAkam, jYAnasya, gam, Na, gO, iva, yaTA, praBAte, kara, darSanam, AvaSyakam, san, ja, tAm],\n",
       " Split(वार्त्तापत्रम् अर्वाचीनकाले मानवस्य जीवनमस्ति । वार्त्तापत्रम् अस्माकं ज्ञानस्य गंङगा इव।यथा प्रभाते करदर्शनम् आवश्यकं सञ्जताम्।) = [vArttA, patram, ar, vAcI, na, kAle, mAnavasya, jIvanam, asti, vArttA, patram, asmAkam, jYAnasya, gam, Na, gO, iva, yaTA, praBAte, kara, darSanam, AvaSyakam, san, ja, tAm],\n",
       " Split(वार्त्तापत्रम् अर्वाचीनकाले मानवस्य जीवनमस्ति । वार्त्तापत्रम् अस्माकं ज्ञानस्य गंङगा इव।यथा प्रभाते करदर्शनम् आवश्यकं सञ्जताम्।) = [vArttA, patram, ar, vAcI, na, kAle, mAnavasya, jIva, nam, asti, vArttA, patram, asmAkam, jYAnasya, gam, Na, gO, iva, yaTA, praBAte, kara, darSanam, AvaSyakam, san, ja, tAm],\n",
       " Split(वार्त्तापत्रम् अर्वाचीनकाले मानवस्य जीवनमस्ति । वार्त्तापत्रम् अस्माकं ज्ञानस्य गंङगा इव।यथा प्रभाते करदर्शनम् आवश्यकं सञ्जताम्।) = [vArttA, patram, arvAcIna, kAle, mAnavasya, jIvanam, asti, vArttA, patram, asmAkam, jYAnasya, gam, Na, gO, iva, yaTA, praBAte, kara, darSanam, AvaSyakam, san, ja, tAm],\n",
       " Split(वार्त्तापत्रम् अर्वाचीनकाले मानवस्य जीवनमस्ति । वार्त्तापत्रम् अस्माकं ज्ञानस्य गंङगा इव।यथा प्रभाते करदर्शनम् आवश्यकं सञ्जताम्।) = [vArttA, patram, arvAc, In, akAle, mAnavasya, jIva, nam, asti, vArttA, patram, asmAkam, jYAnasya, gam, Na, gO, iva, yaTA, praBAte, kara, darSanam, AvaSyakam, san, ja, tAm],\n",
       " Split(वार्त्तापत्रम् अर्वाचीनकाले मानवस्य जीवनमस्ति । वार्त्तापत्रम् अस्माकं ज्ञानस्य गंङगा इव।यथा प्रभाते करदर्शनम् आवश्यकं सञ्जताम्।) = [vArttA, patram, arvAcIna, kAle, mAnavasya, jIva, nam, asti, vArttA, patram, asmAkam, jYAnasya, gam, Na, gO, iva, yaTA, praBAte, kara, darSanam, AvaSyakam, san, ja, tAm],\n",
       " Split(वार्त्तापत्रम् अर्वाचीनकाले मानवस्य जीवनमस्ति । वार्त्तापत्रम् अस्माकं ज्ञानस्य गंङगा इव।यथा प्रभाते करदर्शनम् आवश्यकं सञ्जताम्।) = [vArttA, patram, arvAcI, na, kAle, mAnavasya, jIvanam, asti, vArttA, patram, asmAkam, jYAnasya, gam, Na, gO, iva, yaTA, praBAte, kara, darSanam, AvaSyakam, san, ja, tAm],\n",
       " Split(वार्त्तापत्रम् अर्वाचीनकाले मानवस्य जीवनमस्ति । वार्त्तापत्रम् अस्माकं ज्ञानस्य गंङगा इव।यथा प्रभाते करदर्शनम् आवश्यकं सञ्जताम्।) = [vArttA, patram, arvAcI, na, kAle, mAnavasya, jIva, nam, asti, vArttA, patram, asmAkam, jYAnasya, gam, Na, gO, iva, yaTA, praBAte, kara, darSanam, AvaSyakam, san, ja, tAm],\n",
       " Split(वार्त्तापत्रम् अर्वाचीनकाले मानवस्य जीवनमस्ति । वार्त्तापत्रम् अस्माकं ज्ञानस्य गंङगा इव।यथा प्रभाते करदर्शनम् आवश्यकं सञ्जताम्।) = [vArttA, patram, arvA, cIna, kAle, mAnavasya, jIvanam, asti, vArttA, patram, asmAkam, jYAnasya, gam, Na, gO, iva, yaTA, praBAte, kara, darSanam, AvaSyakam, san, ja, tAm],\n",
       " Split(वार्त्तापत्रम् अर्वाचीनकाले मानवस्य जीवनमस्ति । वार्त्तापत्रम् अस्माकं ज्ञानस्य गंङगा इव।यथा प्रभाते करदर्शनम् आवश्यकं सञ्जताम्।) = [vArttA, patram, arvA, cIna, kAle, mAnavasya, jIva, nam, asti, vArttA, patram, asmAkam, jYAnasya, gam, Na, gO, iva, yaTA, praBAte, kara, darSanam, AvaSyakam, san, ja, tAm]]"
      ]
     },
     "execution_count": 34,
     "metadata": {},
     "output_type": "execute_result"
    }
   ],
   "source": [
    "splits"
   ]
  },
  {
   "cell_type": "code",
   "execution_count": null,
   "id": "506a2a91",
   "metadata": {},
   "outputs": [],
   "source": []
  }
 ],
 "metadata": {
  "kernelspec": {
   "display_name": "Python 3 (ipykernel)",
   "language": "python",
   "name": "python3"
  },
  "language_info": {
   "codemirror_mode": {
    "name": "ipython",
    "version": 3
   },
   "file_extension": ".py",
   "mimetype": "text/x-python",
   "name": "python",
   "nbconvert_exporter": "python",
   "pygments_lexer": "ipython3",
   "version": "3.9.13"
  }
 },
 "nbformat": 4,
 "nbformat_minor": 5
}
