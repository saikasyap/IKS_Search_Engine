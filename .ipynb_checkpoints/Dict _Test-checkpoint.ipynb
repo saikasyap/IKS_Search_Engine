{
 "cells": [
  {
   "cell_type": "code",
   "execution_count": 1,
   "id": "5bb76555",
   "metadata": {},
   "outputs": [
    {
     "name": "stdout",
     "output_type": "stream",
     "text": [
      "{\r\n",
      "  \"name\" : \"master\",\r\n",
      "  \"cluster_name\" : \"elasticsearch\",\r\n",
      "  \"cluster_uuid\" : \"w1RU10VySN26dwWZI6pv2g\",\r\n",
      "  \"version\" : {\r\n",
      "    \"number\" : \"7.10.2\",\r\n",
      "    \"build_flavor\" : \"oss\",\r\n",
      "    \"build_type\" : \"rpm\",\r\n",
      "    \"build_hash\" : \"747e1cc71def077253878a59143c1f785afa92b9\",\r\n",
      "    \"build_date\" : \"2021-01-13T00:42:12.435326Z\",\r\n",
      "    \"build_snapshot\" : false,\r\n",
      "    \"lucene_version\" : \"8.7.0\",\r\n",
      "    \"minimum_wire_compatibility_version\" : \"6.8.0\",\r\n",
      "    \"minimum_index_compatibility_version\" : \"6.0.0-beta1\"\r\n",
      "  },\r\n",
      "  \"tagline\" : \"You Know, for Search\"\r\n",
      "}\r\n"
     ]
    }
   ],
   "source": [
    "!curl http://localhost:9200/"
   ]
  },
  {
   "cell_type": "code",
   "execution_count": null,
   "id": "3a4a6539",
   "metadata": {},
   "outputs": [],
   "source": []
  }
 ],
 "metadata": {
  "kernelspec": {
   "display_name": "Python 3 (ipykernel)",
   "language": "python",
   "name": "python3"
  },
  "language_info": {
   "codemirror_mode": {
    "name": "ipython",
    "version": 3
   },
   "file_extension": ".py",
   "mimetype": "text/x-python",
   "name": "python",
   "nbconvert_exporter": "python",
   "pygments_lexer": "ipython3",
   "version": "3.9.13"
  }
 },
 "nbformat": 4,
 "nbformat_minor": 5
}
